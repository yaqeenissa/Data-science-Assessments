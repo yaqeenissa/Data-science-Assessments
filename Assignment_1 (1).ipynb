{
  "nbformat": 4,
  "nbformat_minor": 0,
  "metadata": {
    "colab": {
      "provenance": []
    },
    "kernelspec": {
      "name": "python3",
      "display_name": "Python 3"
    },
    "language_info": {
      "name": "python"
    }
  },
  "cells": [
    {
      "cell_type": "markdown",
      "source": [
        "**Assignment** #**1**\n",
        "\n",
        "Name: Yaqin issa :)\n",
        "\n",
        "ID:1201576"
      ],
      "metadata": {
        "id": "DIKfLTrEDKQZ"
      }
    },
    {
      "cell_type": "code",
      "source": [
        "\n",
        "first_name=\"yaqin\"\n",
        "last_name=\"issa\"\n",
        "university_id=\"1201576\"\n",
        "expected_graduation_date=\"1/6/2024\"\n",
        "main_reason=\"Data science is a better career choice for those who want to create advanced machine learning models and algorithms.\"\n",
        "\n",
        "about=f\"My name is {first_name} {last_name}, my ID: {university_id},\\nI hope to graduate before {expected_graduation_date}.\\n{main_reason}\"\n",
        "\n",
        "print(about)"
      ],
      "metadata": {
        "colab": {
          "base_uri": "https://localhost:8080/"
        },
        "id": "0UF4v0hO0HXd",
        "outputId": "c47290a8-6ddf-4a6e-d226-c38387b70ab0"
      },
      "execution_count": null,
      "outputs": [
        {
          "output_type": "stream",
          "name": "stdout",
          "text": [
            "My name is yaqin issa, my ID: 1201576,\n",
            "I hope to graduate before 1/6/2024.\n",
            "Data science is a better career choice for those who want to create advanced machine learning models and algorithms.\n"
          ]
        }
      ]
    }
  ]
}