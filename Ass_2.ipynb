{
  "nbformat": 4,
  "nbformat_minor": 0,
  "metadata": {
    "colab": {
      "provenance": []
    },
    "kernelspec": {
      "name": "python3",
      "display_name": "Python 3"
    },
    "language_info": {
      "name": "python"
    }
  },
  "cells": [
    {
      "cell_type": "code",
      "source": [
        "import numpy as np\n",
        "directory = '/content/grocceries/'\n",
        "\n",
        "Abo_Ahmad = np.load(directory + 'Abo Ahmad.npy')\n",
        "Baghdad = np.load(directory + 'Baghdad.npy')\n",
        "Bravo = np.load(directory + 'Bravo.npy')\n",
        "Gardens = np.load(directory + 'Gardens.npy')\n",
        "Karaz = np.load(directory + 'Karaz.npy')\n",
        "Mawares= np.load(directory + 'Mawares.npy')\n",
        "Max_mar = np.load(directory + 'Max mar.npy')\n",
        "Shini = np.load(directory + 'Shini.npy')\n",
        "\n",
        "arrays = [Abo_Ahmad,Baghdad,Bravo,Gardens,Karaz,Mawares,Max_mar,Shini]\n",
        "amounts=[2,1.6,3,6,1,1,2,3]\n",
        "\n",
        "costs = np.array([np.dot(prices, amounts) for prices in arrays])\n",
        "min_index = np.argmin(costs)\n",
        "\n",
        "print(f\"the minimum total cost is: {arrays[min_index]}\")\n"
      ],
      "metadata": {
        "id": "LgE8RSLGM4k2",
        "colab": {
          "base_uri": "https://localhost:8080/"
        },
        "outputId": "71430aef-b19e-4812-adbe-f6329222e4d7"
      },
      "execution_count": null,
      "outputs": [
        {
          "output_type": "stream",
          "name": "stdout",
          "text": [
            "The grocery store with the minimum total cost is: [2.  2.  3.3 1.5 8.  2.5 7.  3.3]\n"
          ]
        }
      ]
    },
    {
      "cell_type": "code",
      "source": [
        "import numpy as np\n",
        "\n",
        "directory = '/content/grocceries/'\n",
        "\n",
        "filenames = [\n",
        "    'Abo Ahmad.npy',\n",
        "    'Baghdad.npy',\n",
        "    'Bravo.npy',\n",
        "    'Gardens.npy',\n",
        "    'Karaz.npy',\n",
        "    'Mawares.npy',\n",
        "    'Max mar.npy',\n",
        "    'Shini.npy'\n",
        "]\n",
        "\n",
        "arrays = [np.load(directory + filename) for filename in filenames]\n",
        "amounts = np.array([2, 1.6, 3, 6, 1, 1, 2, 3])\n",
        "\n",
        "total_costs = np.array([np.dot(prices, amounts) for prices in arrays])\n",
        "\n",
        "min_index = np.argmin(total_costs)\n",
        "\n",
        "print(f\"The grocery store with the minimum total cost is: {filenames[min_index]}\")\n"
      ],
      "metadata": {
        "colab": {
          "base_uri": "https://localhost:8080/"
        },
        "id": "22B9aHOHvSUx",
        "outputId": "52843165-2696-42a8-cc41-e0607722d6a5"
      },
      "execution_count": null,
      "outputs": [
        {
          "output_type": "stream",
          "name": "stdout",
          "text": [
            "The grocery store with the minimum total cost is: Abo Ahmad.npy\n"
          ]
        }
      ]
    }
  ]
}