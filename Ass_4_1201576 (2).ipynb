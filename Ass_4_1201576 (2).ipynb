{
  "nbformat": 4,
  "nbformat_minor": 0,
  "metadata": {
    "colab": {
      "provenance": []
    },
    "kernelspec": {
      "name": "python3",
      "display_name": "Python 3"
    },
    "language_info": {
      "name": "python"
    }
  },
  "cells": [
    {
      "cell_type": "markdown",
      "source": [
        "**Assignment 4**\n",
        "\n",
        "Yaqin issa\n",
        "\n",
        "\n",
        "\n",
        "1201576\n",
        "\n",
        "URL for Data [link text](https://www.kaggle.com/datasets/cedricaubin/ai-ml-salaries?resource=download)"
      ],
      "metadata": {
        "id": "xv16YyXE1Jeo"
      }
    },
    {
      "cell_type": "code",
      "execution_count": null,
      "metadata": {
        "id": "2FSnbPmuy899"
      },
      "outputs": [],
      "source": [
        "import pandas as pd\n",
        "import seaborn as sns\n",
        "import matplotlib.pyplot as plt"
      ]
    },
    {
      "cell_type": "markdown",
      "source": [
        "**About Dataset**          \n",
        "\n",
        "The salaries are from ai-jobs. Ai-jobs collects salary information anonymously from professionals all over the world in the AI/ML and Big Data space.  The primary goal is to have data that can provide better guidance in regards to what's being paid globally."
      ],
      "metadata": {
        "id": "lXPGDTB42H5V"
      }
    },
    {
      "cell_type": "markdown",
      "source": [
        "# The dataset contains one table structured as follow:"
      ],
      "metadata": {
        "id": "-BegxKjw3aMz"
      }
    },
    {
      "cell_type": "markdown",
      "source": [
        "**work_year:** The year the salary was paid.\n",
        "\n",
        "\n",
        "1.    **work_year**: The year the salary was paid.\n",
        "  \n",
        "\n",
        "\n",
        "1.  **experience_level:** The experience level in the job during the year with the following possible values:\n",
        "EN: Entry-level / Junior\n",
        "MI: Mid-level / Intermediatem\n",
        "SE: Senior-level / Expert\n",
        "EX: Executive-level / Director\n",
        "\n",
        "2.   **employment_type:**The type of employement for the role:\n",
        "PT: Part-time\n",
        "FT: Full-time\n",
        "CT: Contract\n",
        "FL: Freelance\n",
        "\n",
        "\n",
        "3.  **job_title:** The role worked in during the year.\n",
        "salary: The total gross salary amount paid.\n",
        "4.  **salary_currency:** The currency of the salary paid as an ISO 4217 currency code.\n",
        "\n",
        "\n",
        "5.   **salary_in_usd:** The salary in USD (FX rate divided by avg. USD rate for the respective year via fxdata.foorilla.com).\n",
        "\n",
        "6.   **employee_residence:** Employee's primary country of residence in during the work year as an ISO 3166 country code.\n",
        "\n",
        "\n",
        "\n",
        "7.   **remote_ratio: **The overall amount of work done remotely, possible values are as follows:\n",
        "0: No remote work (less than 20%)\n",
        "50: Partially remote\n",
        "100: Fully remote (more than 80%)\n",
        "\n",
        "8.   **company_location:** The country of the employer's main office or contracting branch as an ISO 3166 country code.\n",
        "\n",
        "\n",
        "\n",
        "\n",
        "\n",
        "9.   **company_size:** The average number of people that worked for the company during the year:\n",
        "S: less than 50 employees (small)\n",
        "M: 50 to 250 employees (medium)\n",
        "L: more than 250 employees (large)\n",
        "\n",
        "10.   **salary**: The total gross salary amount paid.\n",
        "\n",
        "11.   **salary_currency**: The currency of the salary paid as an ISO 4217 currency code\n",
        "\n",
        "\n",
        "\n",
        "\n",
        "\n",
        "\n",
        "\n"
      ],
      "metadata": {
        "id": "m47k7e783kYw"
      }
    },
    {
      "cell_type": "code",
      "source": [
        "df=pd.read_csv('salaries.csv')\n"
      ],
      "metadata": {
        "id": "SuM-b8TA10te"
      },
      "execution_count": null,
      "outputs": []
    },
    {
      "cell_type": "code",
      "source": [
        "df.columns"
      ],
      "metadata": {
        "colab": {
          "base_uri": "https://localhost:8080/"
        },
        "id": "AUdoTfVb56Y2",
        "outputId": "0975bcb6-895e-496e-bd0d-8ffb42d47f5f"
      },
      "execution_count": null,
      "outputs": [
        {
          "output_type": "execute_result",
          "data": {
            "text/plain": [
              "Index(['work_year', 'experience_level', 'employment_type', 'job_title',\n",
              "       'salary', 'salary_currency', 'salary_in_usd', 'employee_residence',\n",
              "       'remote_ratio', 'company_location', 'company_size'],\n",
              "      dtype='object')"
            ]
          },
          "metadata": {},
          "execution_count": 3
        }
      ]
    },
    {
      "cell_type": "code",
      "source": [
        "df.head()"
      ],
      "metadata": {
        "colab": {
          "base_uri": "https://localhost:8080/",
          "height": 330
        },
        "id": "DtyFXG5kAQgs",
        "outputId": "fada14d9-d60b-4fbd-a40f-81e0b3569e90"
      },
      "execution_count": null,
      "outputs": [
        {
          "output_type": "execute_result",
          "data": {
            "text/plain": [
              "   work_year experience_level employment_type                  job_title  \\\n",
              "0       2023               EN              FT             Data Scientist   \n",
              "1       2023               MI              FT  Machine Learning Engineer   \n",
              "2       2023               MI              FT               Data Analyst   \n",
              "3       2023               MI              FT               Data Analyst   \n",
              "4       2023               SE              FT              ETL Developer   \n",
              "\n",
              "   salary salary_currency  salary_in_usd employee_residence  remote_ratio  \\\n",
              "0  100000             USD         100000                 US           100   \n",
              "1   45000             EUR          48585                 IT           100   \n",
              "2  142000             USD         142000                 US             0   \n",
              "3  128000             USD         128000                 US             0   \n",
              "4   99500             USD          99500                 US             0   \n",
              "\n",
              "  company_location company_size  \n",
              "0               US            M  \n",
              "1               GB            M  \n",
              "2               US            M  \n",
              "3               US            M  \n",
              "4               US            M  "
            ],
            "text/html": [
              "\n",
              "  <div id=\"df-420096d9-0c2b-4bfd-9c02-3aaddd28894a\" class=\"colab-df-container\">\n",
              "    <div>\n",
              "<style scoped>\n",
              "    .dataframe tbody tr th:only-of-type {\n",
              "        vertical-align: middle;\n",
              "    }\n",
              "\n",
              "    .dataframe tbody tr th {\n",
              "        vertical-align: top;\n",
              "    }\n",
              "\n",
              "    .dataframe thead th {\n",
              "        text-align: right;\n",
              "    }\n",
              "</style>\n",
              "<table border=\"1\" class=\"dataframe\">\n",
              "  <thead>\n",
              "    <tr style=\"text-align: right;\">\n",
              "      <th></th>\n",
              "      <th>work_year</th>\n",
              "      <th>experience_level</th>\n",
              "      <th>employment_type</th>\n",
              "      <th>job_title</th>\n",
              "      <th>salary</th>\n",
              "      <th>salary_currency</th>\n",
              "      <th>salary_in_usd</th>\n",
              "      <th>employee_residence</th>\n",
              "      <th>remote_ratio</th>\n",
              "      <th>company_location</th>\n",
              "      <th>company_size</th>\n",
              "    </tr>\n",
              "  </thead>\n",
              "  <tbody>\n",
              "    <tr>\n",
              "      <th>0</th>\n",
              "      <td>2023</td>\n",
              "      <td>EN</td>\n",
              "      <td>FT</td>\n",
              "      <td>Data Scientist</td>\n",
              "      <td>100000</td>\n",
              "      <td>USD</td>\n",
              "      <td>100000</td>\n",
              "      <td>US</td>\n",
              "      <td>100</td>\n",
              "      <td>US</td>\n",
              "      <td>M</td>\n",
              "    </tr>\n",
              "    <tr>\n",
              "      <th>1</th>\n",
              "      <td>2023</td>\n",
              "      <td>MI</td>\n",
              "      <td>FT</td>\n",
              "      <td>Machine Learning Engineer</td>\n",
              "      <td>45000</td>\n",
              "      <td>EUR</td>\n",
              "      <td>48585</td>\n",
              "      <td>IT</td>\n",
              "      <td>100</td>\n",
              "      <td>GB</td>\n",
              "      <td>M</td>\n",
              "    </tr>\n",
              "    <tr>\n",
              "      <th>2</th>\n",
              "      <td>2023</td>\n",
              "      <td>MI</td>\n",
              "      <td>FT</td>\n",
              "      <td>Data Analyst</td>\n",
              "      <td>142000</td>\n",
              "      <td>USD</td>\n",
              "      <td>142000</td>\n",
              "      <td>US</td>\n",
              "      <td>0</td>\n",
              "      <td>US</td>\n",
              "      <td>M</td>\n",
              "    </tr>\n",
              "    <tr>\n",
              "      <th>3</th>\n",
              "      <td>2023</td>\n",
              "      <td>MI</td>\n",
              "      <td>FT</td>\n",
              "      <td>Data Analyst</td>\n",
              "      <td>128000</td>\n",
              "      <td>USD</td>\n",
              "      <td>128000</td>\n",
              "      <td>US</td>\n",
              "      <td>0</td>\n",
              "      <td>US</td>\n",
              "      <td>M</td>\n",
              "    </tr>\n",
              "    <tr>\n",
              "      <th>4</th>\n",
              "      <td>2023</td>\n",
              "      <td>SE</td>\n",
              "      <td>FT</td>\n",
              "      <td>ETL Developer</td>\n",
              "      <td>99500</td>\n",
              "      <td>USD</td>\n",
              "      <td>99500</td>\n",
              "      <td>US</td>\n",
              "      <td>0</td>\n",
              "      <td>US</td>\n",
              "      <td>M</td>\n",
              "    </tr>\n",
              "  </tbody>\n",
              "</table>\n",
              "</div>\n",
              "    <div class=\"colab-df-buttons\">\n",
              "\n",
              "  <div class=\"colab-df-container\">\n",
              "    <button class=\"colab-df-convert\" onclick=\"convertToInteractive('df-420096d9-0c2b-4bfd-9c02-3aaddd28894a')\"\n",
              "            title=\"Convert this dataframe to an interactive table.\"\n",
              "            style=\"display:none;\">\n",
              "\n",
              "  <svg xmlns=\"http://www.w3.org/2000/svg\" height=\"24px\" viewBox=\"0 -960 960 960\">\n",
              "    <path d=\"M120-120v-720h720v720H120Zm60-500h600v-160H180v160Zm220 220h160v-160H400v160Zm0 220h160v-160H400v160ZM180-400h160v-160H180v160Zm440 0h160v-160H620v160ZM180-180h160v-160H180v160Zm440 0h160v-160H620v160Z\"/>\n",
              "  </svg>\n",
              "    </button>\n",
              "\n",
              "  <style>\n",
              "    .colab-df-container {\n",
              "      display:flex;\n",
              "      gap: 12px;\n",
              "    }\n",
              "\n",
              "    .colab-df-convert {\n",
              "      background-color: #E8F0FE;\n",
              "      border: none;\n",
              "      border-radius: 50%;\n",
              "      cursor: pointer;\n",
              "      display: none;\n",
              "      fill: #1967D2;\n",
              "      height: 32px;\n",
              "      padding: 0 0 0 0;\n",
              "      width: 32px;\n",
              "    }\n",
              "\n",
              "    .colab-df-convert:hover {\n",
              "      background-color: #E2EBFA;\n",
              "      box-shadow: 0px 1px 2px rgba(60, 64, 67, 0.3), 0px 1px 3px 1px rgba(60, 64, 67, 0.15);\n",
              "      fill: #174EA6;\n",
              "    }\n",
              "\n",
              "    .colab-df-buttons div {\n",
              "      margin-bottom: 4px;\n",
              "    }\n",
              "\n",
              "    [theme=dark] .colab-df-convert {\n",
              "      background-color: #3B4455;\n",
              "      fill: #D2E3FC;\n",
              "    }\n",
              "\n",
              "    [theme=dark] .colab-df-convert:hover {\n",
              "      background-color: #434B5C;\n",
              "      box-shadow: 0px 1px 3px 1px rgba(0, 0, 0, 0.15);\n",
              "      filter: drop-shadow(0px 1px 2px rgba(0, 0, 0, 0.3));\n",
              "      fill: #FFFFFF;\n",
              "    }\n",
              "  </style>\n",
              "\n",
              "    <script>\n",
              "      const buttonEl =\n",
              "        document.querySelector('#df-420096d9-0c2b-4bfd-9c02-3aaddd28894a button.colab-df-convert');\n",
              "      buttonEl.style.display =\n",
              "        google.colab.kernel.accessAllowed ? 'block' : 'none';\n",
              "\n",
              "      async function convertToInteractive(key) {\n",
              "        const element = document.querySelector('#df-420096d9-0c2b-4bfd-9c02-3aaddd28894a');\n",
              "        const dataTable =\n",
              "          await google.colab.kernel.invokeFunction('convertToInteractive',\n",
              "                                                    [key], {});\n",
              "        if (!dataTable) return;\n",
              "\n",
              "        const docLinkHtml = 'Like what you see? Visit the ' +\n",
              "          '<a target=\"_blank\" href=https://colab.research.google.com/notebooks/data_table.ipynb>data table notebook</a>'\n",
              "          + ' to learn more about interactive tables.';\n",
              "        element.innerHTML = '';\n",
              "        dataTable['output_type'] = 'display_data';\n",
              "        await google.colab.output.renderOutput(dataTable, element);\n",
              "        const docLink = document.createElement('div');\n",
              "        docLink.innerHTML = docLinkHtml;\n",
              "        element.appendChild(docLink);\n",
              "      }\n",
              "    </script>\n",
              "  </div>\n",
              "\n",
              "\n",
              "<div id=\"df-c440e6f0-5122-4b5a-86fa-b3f734f4a142\">\n",
              "  <button class=\"colab-df-quickchart\" onclick=\"quickchart('df-c440e6f0-5122-4b5a-86fa-b3f734f4a142')\"\n",
              "            title=\"Suggest charts\"\n",
              "            style=\"display:none;\">\n",
              "\n",
              "<svg xmlns=\"http://www.w3.org/2000/svg\" height=\"24px\"viewBox=\"0 0 24 24\"\n",
              "     width=\"24px\">\n",
              "    <g>\n",
              "        <path d=\"M19 3H5c-1.1 0-2 .9-2 2v14c0 1.1.9 2 2 2h14c1.1 0 2-.9 2-2V5c0-1.1-.9-2-2-2zM9 17H7v-7h2v7zm4 0h-2V7h2v10zm4 0h-2v-4h2v4z\"/>\n",
              "    </g>\n",
              "</svg>\n",
              "  </button>\n",
              "\n",
              "<style>\n",
              "  .colab-df-quickchart {\n",
              "      --bg-color: #E8F0FE;\n",
              "      --fill-color: #1967D2;\n",
              "      --hover-bg-color: #E2EBFA;\n",
              "      --hover-fill-color: #174EA6;\n",
              "      --disabled-fill-color: #AAA;\n",
              "      --disabled-bg-color: #DDD;\n",
              "  }\n",
              "\n",
              "  [theme=dark] .colab-df-quickchart {\n",
              "      --bg-color: #3B4455;\n",
              "      --fill-color: #D2E3FC;\n",
              "      --hover-bg-color: #434B5C;\n",
              "      --hover-fill-color: #FFFFFF;\n",
              "      --disabled-bg-color: #3B4455;\n",
              "      --disabled-fill-color: #666;\n",
              "  }\n",
              "\n",
              "  .colab-df-quickchart {\n",
              "    background-color: var(--bg-color);\n",
              "    border: none;\n",
              "    border-radius: 50%;\n",
              "    cursor: pointer;\n",
              "    display: none;\n",
              "    fill: var(--fill-color);\n",
              "    height: 32px;\n",
              "    padding: 0;\n",
              "    width: 32px;\n",
              "  }\n",
              "\n",
              "  .colab-df-quickchart:hover {\n",
              "    background-color: var(--hover-bg-color);\n",
              "    box-shadow: 0 1px 2px rgba(60, 64, 67, 0.3), 0 1px 3px 1px rgba(60, 64, 67, 0.15);\n",
              "    fill: var(--button-hover-fill-color);\n",
              "  }\n",
              "\n",
              "  .colab-df-quickchart-complete:disabled,\n",
              "  .colab-df-quickchart-complete:disabled:hover {\n",
              "    background-color: var(--disabled-bg-color);\n",
              "    fill: var(--disabled-fill-color);\n",
              "    box-shadow: none;\n",
              "  }\n",
              "\n",
              "  .colab-df-spinner {\n",
              "    border: 2px solid var(--fill-color);\n",
              "    border-color: transparent;\n",
              "    border-bottom-color: var(--fill-color);\n",
              "    animation:\n",
              "      spin 1s steps(1) infinite;\n",
              "  }\n",
              "\n",
              "  @keyframes spin {\n",
              "    0% {\n",
              "      border-color: transparent;\n",
              "      border-bottom-color: var(--fill-color);\n",
              "      border-left-color: var(--fill-color);\n",
              "    }\n",
              "    20% {\n",
              "      border-color: transparent;\n",
              "      border-left-color: var(--fill-color);\n",
              "      border-top-color: var(--fill-color);\n",
              "    }\n",
              "    30% {\n",
              "      border-color: transparent;\n",
              "      border-left-color: var(--fill-color);\n",
              "      border-top-color: var(--fill-color);\n",
              "      border-right-color: var(--fill-color);\n",
              "    }\n",
              "    40% {\n",
              "      border-color: transparent;\n",
              "      border-right-color: var(--fill-color);\n",
              "      border-top-color: var(--fill-color);\n",
              "    }\n",
              "    60% {\n",
              "      border-color: transparent;\n",
              "      border-right-color: var(--fill-color);\n",
              "    }\n",
              "    80% {\n",
              "      border-color: transparent;\n",
              "      border-right-color: var(--fill-color);\n",
              "      border-bottom-color: var(--fill-color);\n",
              "    }\n",
              "    90% {\n",
              "      border-color: transparent;\n",
              "      border-bottom-color: var(--fill-color);\n",
              "    }\n",
              "  }\n",
              "</style>\n",
              "\n",
              "  <script>\n",
              "    async function quickchart(key) {\n",
              "      const quickchartButtonEl =\n",
              "        document.querySelector('#' + key + ' button');\n",
              "      quickchartButtonEl.disabled = true;  // To prevent multiple clicks.\n",
              "      quickchartButtonEl.classList.add('colab-df-spinner');\n",
              "      try {\n",
              "        const charts = await google.colab.kernel.invokeFunction(\n",
              "            'suggestCharts', [key], {});\n",
              "      } catch (error) {\n",
              "        console.error('Error during call to suggestCharts:', error);\n",
              "      }\n",
              "      quickchartButtonEl.classList.remove('colab-df-spinner');\n",
              "      quickchartButtonEl.classList.add('colab-df-quickchart-complete');\n",
              "    }\n",
              "    (() => {\n",
              "      let quickchartButtonEl =\n",
              "        document.querySelector('#df-c440e6f0-5122-4b5a-86fa-b3f734f4a142 button');\n",
              "      quickchartButtonEl.style.display =\n",
              "        google.colab.kernel.accessAllowed ? 'block' : 'none';\n",
              "    })();\n",
              "  </script>\n",
              "</div>\n",
              "    </div>\n",
              "  </div>\n"
            ],
            "application/vnd.google.colaboratory.intrinsic+json": {
              "type": "dataframe",
              "variable_name": "df",
              "summary": "{\n  \"name\": \"df\",\n  \"rows\": 7366,\n  \"fields\": [\n    {\n      \"column\": \"work_year\",\n      \"properties\": {\n        \"dtype\": \"number\",\n        \"std\": 0,\n        \"min\": 2020,\n        \"max\": 2023,\n        \"num_unique_values\": 4,\n        \"samples\": [\n          2020,\n          2021,\n          2023\n        ],\n        \"semantic_type\": \"\",\n        \"description\": \"\"\n      }\n    },\n    {\n      \"column\": \"experience_level\",\n      \"properties\": {\n        \"dtype\": \"category\",\n        \"num_unique_values\": 4,\n        \"samples\": [\n          \"MI\",\n          \"EX\",\n          \"EN\"\n        ],\n        \"semantic_type\": \"\",\n        \"description\": \"\"\n      }\n    },\n    {\n      \"column\": \"employment_type\",\n      \"properties\": {\n        \"dtype\": \"category\",\n        \"num_unique_values\": 4,\n        \"samples\": [\n          \"CT\",\n          \"FL\",\n          \"FT\"\n        ],\n        \"semantic_type\": \"\",\n        \"description\": \"\"\n      }\n    },\n    {\n      \"column\": \"job_title\",\n      \"properties\": {\n        \"dtype\": \"category\",\n        \"num_unique_values\": 118,\n        \"samples\": [\n          \"Data Analytics Lead\",\n          \"AWS Data Architect\",\n          \"Data Engineer\"\n        ],\n        \"semantic_type\": \"\",\n        \"description\": \"\"\n      }\n    },\n    {\n      \"column\": \"salary\",\n      \"properties\": {\n        \"dtype\": \"number\",\n        \"std\": 494583,\n        \"min\": 14000,\n        \"max\": 30400000,\n        \"num_unique_values\": 1273,\n        \"samples\": [\n          235000,\n          248700,\n          272290\n        ],\n        \"semantic_type\": \"\",\n        \"description\": \"\"\n      }\n    },\n    {\n      \"column\": \"salary_currency\",\n      \"properties\": {\n        \"dtype\": \"category\",\n        \"num_unique_values\": 22,\n        \"samples\": [\n          \"USD\",\n          \"ZAR\",\n          \"TRY\"\n        ],\n        \"semantic_type\": \"\",\n        \"description\": \"\"\n      }\n    },\n    {\n      \"column\": \"salary_in_usd\",\n      \"properties\": {\n        \"dtype\": \"number\",\n        \"std\": 63913,\n        \"min\": 15000,\n        \"max\": 450000,\n        \"num_unique_values\": 1540,\n        \"samples\": [\n          230000,\n          182750,\n          156000\n        ],\n        \"semantic_type\": \"\",\n        \"description\": \"\"\n      }\n    },\n    {\n      \"column\": \"employee_residence\",\n      \"properties\": {\n        \"dtype\": \"category\",\n        \"num_unique_values\": 85,\n        \"samples\": [\n          \"IQ\",\n          \"US\",\n          \"DK\"\n        ],\n        \"semantic_type\": \"\",\n        \"description\": \"\"\n      }\n    },\n    {\n      \"column\": \"remote_ratio\",\n      \"properties\": {\n        \"dtype\": \"number\",\n        \"std\": 48,\n        \"min\": 0,\n        \"max\": 100,\n        \"num_unique_values\": 3,\n        \"samples\": [\n          100,\n          0,\n          50\n        ],\n        \"semantic_type\": \"\",\n        \"description\": \"\"\n      }\n    },\n    {\n      \"column\": \"company_location\",\n      \"properties\": {\n        \"dtype\": \"category\",\n        \"num_unique_values\": 73,\n        \"samples\": [\n          \"DE\",\n          \"MY\",\n          \"NL\"\n        ],\n        \"semantic_type\": \"\",\n        \"description\": \"\"\n      }\n    },\n    {\n      \"column\": \"company_size\",\n      \"properties\": {\n        \"dtype\": \"category\",\n        \"num_unique_values\": 3,\n        \"samples\": [\n          \"M\",\n          \"S\",\n          \"L\"\n        ],\n        \"semantic_type\": \"\",\n        \"description\": \"\"\n      }\n    }\n  ]\n}"
            }
          },
          "metadata": {},
          "execution_count": 15
        }
      ]
    },
    {
      "cell_type": "code",
      "source": [
        "#print column name and data type\n",
        "for col in df.columns:\n",
        "  print(f\"column name: {col}----------> {df[col].dtype}\")\n"
      ],
      "metadata": {
        "colab": {
          "base_uri": "https://localhost:8080/"
        },
        "id": "om6acbMM7AY_",
        "outputId": "ffc96fbb-4f1a-476b-d840-4d2772c1e8b7"
      },
      "execution_count": null,
      "outputs": [
        {
          "output_type": "stream",
          "name": "stdout",
          "text": [
            "column name: work_year----------> int64\n",
            "column name: experience_level----------> object\n",
            "column name: employment_type----------> object\n",
            "column name: job_title----------> object\n",
            "column name: salary----------> int64\n",
            "column name: salary_currency----------> object\n",
            "column name: salary_in_usd----------> int64\n",
            "column name: employee_residence----------> object\n",
            "column name: remote_ratio----------> int64\n",
            "column name: company_location----------> object\n",
            "column name: company_size----------> object\n"
          ]
        }
      ]
    },
    {
      "cell_type": "markdown",
      "source": [
        "the data types of columns are distributed between integers (int64) and objects (strings)"
      ],
      "metadata": {
        "id": "gWhK5ODB8Ly_"
      }
    },
    {
      "cell_type": "code",
      "source": [
        "data_shape = df.shape\n",
        "\n",
        "print(\"Shape of the data: \", data_shape)"
      ],
      "metadata": {
        "colab": {
          "base_uri": "https://localhost:8080/"
        },
        "id": "VJo8RsMc8dz9",
        "outputId": "d6bdb9f7-2c4b-4696-d559-04ec010579b0"
      },
      "execution_count": null,
      "outputs": [
        {
          "output_type": "stream",
          "name": "stdout",
          "text": [
            "Shape of the data:  (7366, 11)\n"
          ]
        }
      ]
    },
    {
      "cell_type": "markdown",
      "source": [
        "1- Shape result :tuple representing the dimensions of the DataFrame, where the first element of the tuple is the number of rows and the second element is the number of columns."
      ],
      "metadata": {
        "id": "8oFr1VrL-iIP"
      }
    },
    {
      "cell_type": "code",
      "source": [
        "df.isnull().sum()"
      ],
      "metadata": {
        "colab": {
          "base_uri": "https://localhost:8080/"
        },
        "id": "wIZhzhpc-yEo",
        "outputId": "1069e74a-0edb-4526-83c6-6345b45d451f"
      },
      "execution_count": null,
      "outputs": [
        {
          "output_type": "execute_result",
          "data": {
            "text/plain": [
              "work_year             0\n",
              "experience_level      0\n",
              "employment_type       0\n",
              "job_title             0\n",
              "salary                0\n",
              "salary_currency       0\n",
              "salary_in_usd         0\n",
              "employee_residence    0\n",
              "remote_ratio          0\n",
              "company_location      0\n",
              "company_size          0\n",
              "dtype: int64"
            ]
          },
          "metadata": {},
          "execution_count": 7
        }
      ]
    },
    {
      "cell_type": "markdown",
      "source": [
        " appears that there are no missing values in any of the columns *of* dataset"
      ],
      "metadata": {
        "id": "C5GgXyhd_tFl"
      }
    },
    {
      "cell_type": "markdown",
      "source": [
        "# Which features are numerical, and which are nominal, and which are ordinal ?"
      ],
      "metadata": {
        "id": "aoaOSVoN_7yo"
      }
    },
    {
      "cell_type": "markdown",
      "source": [
        "# numerical:\n",
        "\n",
        "* salary\n",
        "* salary_in_usd:\n",
        " The total gross salary amount paid is a numerical feature because it represents a quantity that can be measured and operated on mathematically\n",
        "\n",
        "\n",
        "*  remote_ratio:\n",
        " This represents the percentage of work done remotely and, despite being limited to a few distinct values (0, 50, 100), it is inherently numerical because it quantifies an amount\n",
        "\n",
        "\n",
        "\n"
      ],
      "metadata": {
        "id": "yxbbwjNlM4i-"
      }
    },
    {
      "cell_type": "markdown",
      "source": [
        "# Nominal features:\n",
        "\n",
        "*  Work_year\n",
        "*  employment_type\n",
        "*  job_title\n",
        "*  salary_currency\n",
        "*  employee_residence    \n",
        "*  company_location      \n",
        "\n",
        "\n",
        "\n",
        "\n",
        "\n",
        "\n",
        "\n"
      ],
      "metadata": {
        "id": "-Enmnx_BNuRj"
      }
    },
    {
      "cell_type": "markdown",
      "source": [
        "# Ordinal features:\n",
        "\n",
        "\n",
        "\n",
        "*   **experience_level:**\n",
        "\n",
        "EN: Entry-level / Junior\n",
        "\n",
        "MI: Mid-level / Intermediate\n",
        "\n",
        "SE: Senior-level / Expert\n",
        "\n",
        "EX: Executive-level / Director\n",
        "\n",
        "*  **company_size:**\n",
        "\n",
        "S: less than 50 employees (small)\n",
        "\n",
        "M: 50 to 250 employees (medium)\n",
        "\n",
        "L: more than 250 employees (large)"
      ],
      "metadata": {
        "id": "csBVRmFOOq7W"
      }
    },
    {
      "cell_type": "markdown",
      "source": [
        "# Descriptive Statistics for Numerical Features"
      ],
      "metadata": {
        "id": "pu1dT8LNQJSr"
      }
    },
    {
      "cell_type": "code",
      "source": [
        "numerical_stats = df[['salary', 'salary_in_usd']].describe()\n",
        "print(numerical_stats)"
      ],
      "metadata": {
        "colab": {
          "base_uri": "https://localhost:8080/"
        },
        "id": "zOMmTDeL_8Qf",
        "outputId": "6e0a8d0c-2c2f-4dfe-db11-b732f82093fa"
      },
      "execution_count": null,
      "outputs": [
        {
          "output_type": "stream",
          "name": "stdout",
          "text": [
            "             salary  salary_in_usd\n",
            "count  7.366000e+03    7366.000000\n",
            "mean   1.782110e+05  148570.102498\n",
            "std    4.945834e+05   63913.438628\n",
            "min    1.400000e+04   15000.000000\n",
            "25%    1.052000e+05  105000.000000\n",
            "50%    1.440000e+05  142200.000000\n",
            "75%    1.893275e+05  185900.000000\n",
            "max    3.040000e+07  450000.000000\n"
          ]
        }
      ]
    },
    {
      "cell_type": "markdown",
      "source": [
        "count:This represents the total number of data points (rows) included in the calculation. In this case, there are 73660 data points for both salary and salary_in_usd.\n",
        "\n",
        "mean: This represents the average value of all the data points.\n",
        "For salary, the average is 178 211\n",
        "For salary_in_usd, the average is 148 570.10\n",
        "\n",
        "std: This represents the standard deviation, which indicates how spread out the data points are from the mean.\n",
        "\n",
        "A higher standard deviation signifies that the data points have a larger variation around the mean.\n",
        "\n",
        "In this case, the standard deviation is quite high for both salary and salary_in_usd, suggesting a significant spread in salary ranges."
      ],
      "metadata": {
        "id": "XMPJUaCOQOKT"
      }
    },
    {
      "cell_type": "markdown",
      "source": [
        "min: This represents the minimum value found in the dataset.\n",
        "For salary, the minimum is 14,000 (likely the original currency before conversion to USD).\n",
        "For salary_in_usd, the minimum is 15,000"
      ],
      "metadata": {
        "id": "vXaNWUfiSQeI"
      }
    },
    {
      "cell_type": "markdown",
      "source": [
        "25% : This represents the value at which 25% of the data points fall below and 75% fall above.\n",
        "\n",
        "For salary, the 25th percentile is 105,200\n",
        "\n",
        "For salary_in_usd, the 25th percentile is 105,000."
      ],
      "metadata": {
        "id": "HVukduZASaF1"
      }
    },
    {
      "cell_type": "markdown",
      "source": [
        "50% (median): This represents the middle value when all the data points are ordered from lowest to highest. It signifies the center point of the distribution.\n",
        "\n",
        "For salary, the median is 144,000\n",
        "\n",
        "For salary_in_usd, the median is 142,200"
      ],
      "metadata": {
        "id": "2Ulffq52Svt-"
      }
    },
    {
      "cell_type": "markdown",
      "source": [
        "75% : This represents the value at which 75% of the data points fall below and 25% fall above. It indicates the upper end of the middle portion of the distribution.\n",
        "\n",
        "For salary, the 75th percentile is 189,327.5\n",
        "\n",
        "For salary_in_usd, the 75th percentile is 185,900."
      ],
      "metadata": {
        "id": "ggC29awNS7La"
      }
    },
    {
      "cell_type": "markdown",
      "source": [
        "max: This represents the maximum value found in the dataset.\n",
        "\n",
        "For salary, the maximum is 304,000,000 This could be an outlier or indicate a very high earners group.\n",
        "For salary_in_usd, the maximum is 450,000."
      ],
      "metadata": {
        "id": "lPRcTvblS9Om"
      }
    },
    {
      "cell_type": "markdown",
      "source": [
        "# Does they have kweness? interpret"
      ],
      "metadata": {
        "id": "yKGn8k-6TiMh"
      }
    },
    {
      "cell_type": "markdown",
      "source": [
        "For the salary column:\n",
        "\n",
        "The mean is 178 211 while the median (50th percentile) is $144,000. Since the mean is greater than the median, it suggests right-skewness.\n",
        "\n",
        "The maximum value is $30 400 000 which is significantly larger than the mean and median, further suggesting right-skewness.\n",
        "\n",
        "The standard deviation is $494,583, indicating a high degree of variability\n",
        "**********************************************************************************\n",
        "\n",
        "For the salary_in_usd column:\n",
        "\n",
        "The mean is $148,570.10, while the median (50th percentile) is $142,200. Since the mean is slightly greater than the median, it also suggests right-skewness, although less pronounced than the 'salary' column.\n",
        "The maximum value is $450,000, which is significantly larger than the mean and median, suggesting right-skewness.\n",
        "The standard deviation is $63,913.44, indicating variability\n",
        "\n"
      ],
      "metadata": {
        "id": "3bcLKA-N_Nkw"
      }
    },
    {
      "cell_type": "code",
      "source": [
        "print( f\" salary=  {df['salary'].skew()} \")\n",
        "print( f\"  salary_in_usd=  {df['salary_in_usd'].skew()} \")"
      ],
      "metadata": {
        "colab": {
          "base_uri": "https://localhost:8080/"
        },
        "id": "7VKUkLZG-kQj",
        "outputId": "db17eda7-1be6-41bd-a721-85a3d25b5214"
      },
      "execution_count": null,
      "outputs": [
        {
          "output_type": "stream",
          "name": "stdout",
          "text": [
            "    salary=  37.401135584739905 \n",
            "    salary_in_usd=  0.5916623442892784 \n"
          ]
        }
      ]
    },
    {
      "cell_type": "markdown",
      "source": [
        "\n",
        "If the skewness value is positive, it indicates right-skewness, meaning the distribution is skewed to the right, with a longer right tail.\n",
        "\n",
        "If the skewness value is approximately zero, it indicates that the distribution is approximately symmetric.\n"
      ],
      "metadata": {
        "id": "zL8VltqpCvwN"
      }
    },
    {
      "cell_type": "code",
      "source": [
        "sns.set(style=\"whitegrid\")\n",
        "plt.figure(figsize=(5, 5))\n",
        "sns.histplot(data=df, x='salary', kde=True, color='skyblue')\n",
        "plt.title('Normal Distribution Plot for Column: column_name')\n",
        "plt.xlabel('salary')\n",
        "plt.ylabel('Density')\n",
        "plt.show()"
      ],
      "metadata": {
        "colab": {
          "base_uri": "https://localhost:8080/",
          "height": 496
        },
        "id": "HK2FOixlK7ZW",
        "outputId": "f24301c7-80dd-4aba-ff2b-00da741c2b67"
      },
      "execution_count": null,
      "outputs": [
        {
          "output_type": "display_data",
          "data": {
            "text/plain": [
              "<Figure size 500x500 with 1 Axes>"
            ],
            "image/png": "[encoded data removed]"
          },
          "metadata": {}
        }
      ]
    },
    {
      "cell_type": "code",
      "source": [
        "sns.set(style=\"whitegrid\")\n",
        "plt.figure(figsize=(5, 5))\n",
        "sns.histplot(data=df, x='salary_in_usd', kde=True, color='skyblue')\n",
        "plt.title('Normal Distribution Plot for Column: column_name')\n",
        "plt.xlabel('salary_in_usd')\n",
        "plt.ylabel('Density')\n",
        "plt.show()"
      ],
      "metadata": {
        "colab": {
          "base_uri": "https://localhost:8080/",
          "height": 496
        },
        "id": "Y9U5f9-SLpCu",
        "outputId": "01b1bc71-4b27-4f8e-f176-a55950f0f49c"
      },
      "execution_count": null,
      "outputs": [
        {
          "output_type": "display_data",
          "data": {
            "text/plain": [
              "<Figure size 500x500 with 1 Axes>"
            ],
            "image/png": "[encoded data removed]"
          },
          "metadata": {}
        }
      ]
    },
    {
      "cell_type": "markdown",
      "source": [
        "to show the right-skewness"
      ],
      "metadata": {
        "id": "vOPHZueVMUP-"
      }
    },
    {
      "cell_type": "code",
      "source": [
        "experience_level_counts = df['experience_level'].value_counts()\n",
        "print(\"Experience Level Distribution:\")\n",
        "print(experience_level_counts)\n",
        "# Check if the minimum count is at least 80% of the maximum count\n",
        "print(\"Is balanced:\", experience_level_counts.min() / experience_level_counts.max() > 0.8)"
      ],
      "metadata": {
        "colab": {
          "base_uri": "https://localhost:8080/"
        },
        "id": "g9fZ4ojwC7oY",
        "outputId": "98a4fce8-80c8-4037-b4ed-64abe4fd7a87"
      },
      "execution_count": null,
      "outputs": [
        {
          "output_type": "stream",
          "name": "stdout",
          "text": [
            "Experience Level Distribution:\n",
            "SE    5290\n",
            "MI    1439\n",
            "EN     410\n",
            "EX     227\n",
            "Name: experience_level, dtype: int64\n",
            "Is balanced: False\n"
          ]
        }
      ]
    },
    {
      "cell_type": "code",
      "source": [
        "company_size_counts = df['company_size'].value_counts()\n",
        "print(\"\\nCompany Size Distribution:\")\n",
        "print(company_size_counts)\n",
        "# Check if the minimum count is at least 80% of the maximum count\n",
        "print(\"Is balanced:\", company_size_counts.min() / company_size_counts.max() > 0.8)"
      ],
      "metadata": {
        "colab": {
          "base_uri": "https://localhost:8080/"
        },
        "id": "C5qzO4KXEh68",
        "outputId": "d0309523-480b-4c3c-87eb-cd60c849fad9"
      },
      "execution_count": null,
      "outputs": [
        {
          "output_type": "stream",
          "name": "stdout",
          "text": [
            "\n",
            "Company Size Distribution:\n",
            "M    6537\n",
            "L     664\n",
            "S     165\n",
            "Name: company_size, dtype: int64\n",
            "Is balanced: False\n"
          ]
        }
      ]
    },
    {
      "cell_type": "markdown",
      "source": [
        "# Based on intuition, there appears to be a correlation between the experience_level and salary_in_usd features."
      ],
      "metadata": {
        "id": "mX4AcSAQFAYh"
      }
    },
    {
      "cell_type": "markdown",
      "source": [
        "# Correlation Analysis"
      ],
      "metadata": {
        "id": "9xPyhfn2GG7K"
      }
    },
    {
      "cell_type": "code",
      "source": [
        "experience_level_mapping = {'EN': 1, 'MI': 2, 'SE': 3, 'EX': 4}\n",
        "df['experience_level_numeric'] = df['experience_level'].map(experience_level_mapping)\n",
        "\n",
        "# Calculate correlation coefficient (Spearman's rank correlation coefficient)\n",
        "correlation_coefficient = df['experience_level_numeric'].corr(df['salary_in_usd'], method='spearman')\n",
        "print(\"Correlation Coefficient :\", correlation_coefficient)\n"
      ],
      "metadata": {
        "colab": {
          "base_uri": "https://localhost:8080/"
        },
        "id": "EFN6UIJRE9RM",
        "outputId": "23d8cc53-ee42-41da-decc-0980ae73d5d4"
      },
      "execution_count": null,
      "outputs": [
        {
          "output_type": "stream",
          "name": "stdout",
          "text": [
            "Correlation Coefficient : 0.41190934547123986\n"
          ]
        }
      ]
    },
    {
      "cell_type": "markdown",
      "source": [
        "based on the calculated correlation coefficient, there is indeed evidence to support the intuition that there is a correlation between experience_level and salary_in_usd."
      ],
      "metadata": {
        "id": "bagqBFgMH1Wy"
      }
    },
    {
      "cell_type": "markdown",
      "source": [
        "# Visualization"
      ],
      "metadata": {
        "id": "HU4mW3t7GvHb"
      }
    },
    {
      "cell_type": "code",
      "source": [
        "plt.figure(figsize=(6, 4))\n",
        "sns.scatterplot(data=df, x='experience_level_numeric', y='salary_in_usd')\n",
        "plt.xlabel('Experience Level (Numerical)')\n",
        "plt.ylabel('Salary in USD')\n",
        "plt.title('Relationship between Experience Level and Salary in USD')\n",
        "plt.show()"
      ],
      "metadata": {
        "colab": {
          "base_uri": "https://localhost:8080/",
          "height": 410
        },
        "id": "KMzeglOzG6jg",
        "outputId": "89feaf37-35a8-4089-fe99-d229e6a17a44"
      },
      "execution_count": null,
      "outputs": [
        {
          "output_type": "display_data",
          "data": {
            "text/plain": [
              "<Figure size 600x400 with 1 Axes>"
            ],
            "image/png": "[encoded data removed]"
          },
          "metadata": {}
        }
      ]
    },
    {
      "cell_type": "markdown",
      "source": [
        " every time the experience level increases, the salary also increases, it suggests a positive correlation between the two variables"
      ],
      "metadata": {
        "id": "XuNbbGH8IHYL"
      }
    },
    {
      "cell_type": "markdown",
      "source": [
        "# Are their features that can be used as index?"
      ],
      "metadata": {
        "id": "5uPN_mOFKUQn"
      }
    },
    {
      "cell_type": "markdown",
      "source": [
        "there are no features that uniquely identify each row and meet the criteria for serving as an index"
      ],
      "metadata": {
        "id": "66H-jZnkKT7w"
      }
    }
  ]
}