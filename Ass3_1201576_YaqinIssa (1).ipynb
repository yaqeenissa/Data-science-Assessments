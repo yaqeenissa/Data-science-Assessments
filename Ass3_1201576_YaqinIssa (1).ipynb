{
  "nbformat": 4,
  "nbformat_minor": 0,
  "metadata": {
    "colab": {
      "provenance": []
    },
    "kernelspec": {
      "name": "python3",
      "display_name": "Python 3"
    },
    "language_info": {
      "name": "python"
    }
  },
  "cells": [
    {
      "cell_type": "markdown",
      "source": [
        "**Assignment 3**\n",
        "\n",
        " 1.   **Name: Yaqin issa**\n",
        " 2.   **ID: 1201576**\n",
        "\n",
        "\n"
      ],
      "metadata": {
        "id": "cubzNNOjt6ew"
      }
    },
    {
      "cell_type": "code",
      "source": [
        "import numpy as np"
      ],
      "metadata": {
        "id": "uBJ0nq0fCoou"
      },
      "execution_count": null,
      "outputs": []
    },
    {
      "cell_type": "code",
      "execution_count": null,
      "metadata": {
        "id": "yuhwd99UtxU2"
      },
      "outputs": [],
      "source": [
        "from os import replace\n",
        "np.random.seed(1201576)\n",
        "\n",
        "population=np.random.normal(loc=1500,scale=700,size=10000000)\n",
        "\n",
        "\n",
        "sample10=np.random.choice(population,size=10,replace=False)\n",
        "sample100=np.random.choice(population,size=100,replace=False)\n",
        "sample1000=np.random.choice(population,size=1000,replace=False)\n",
        "sample10000=np.random.choice(population,size=10000,replace=False)\n",
        "\n",
        "# print(sample10)\n",
        "# print(sample100)\n",
        "# print(sample1000)\n",
        "# print(sample10000)\n",
        "\n",
        "\n"
      ]
    },
    {
      "cell_type": "markdown",
      "source": [
        "**sample error**\n",
        "\n",
        "\n"
      ],
      "metadata": {
        "id": "PKVNuyU36NXj"
      }
    },
    {
      "cell_type": "markdown",
      "source": [
        "# What is the relation between the sample size and the sampling error?"
      ],
      "metadata": {
        "id": "hXS-MIs9MVni"
      }
    },
    {
      "cell_type": "markdown",
      "source": [
        "\n",
        "A larger sample size (10000) is more likely to be representative of the\n",
        "population compared to a smaller sample size (10) because it captures a wider range of values from the population.\n",
        "\n"
      ],
      "metadata": {
        "id": "6yxAC6WVD7-N"
      }
    },
    {
      "cell_type": "code",
      "source": [
        "\n",
        "def mean(sample):\n",
        "    sample_mean=np.mean(sample)\n",
        "\n",
        "    return sample_mean;\n",
        "\n",
        "\n",
        "print(f\"population _mean ={mean(population)}\")\n",
        "print(f\"10 _mean ={mean(sample10)}\")\n",
        "print(f\"100 _mean ={mean(sample100)}\")\n",
        "print(f\"1000 _mean ={mean(sample1000)}\")\n",
        "print(f\"10000 _mean ={mean(sample10000)}\")\n",
        "\n"
      ],
      "metadata": {
        "colab": {
          "base_uri": "https://localhost:8080/"
        },
        "id": "CJa1efrwHedI",
        "outputId": "1d793217-5bfd-4943-d565-54927c207a37"
      },
      "execution_count": null,
      "outputs": [
        {
          "output_type": "stream",
          "name": "stdout",
          "text": [
            "population _mean =1500.1719282170518\n",
            "10 _mean =1240.7176415571769\n",
            "100 _mean =1553.4565055667358\n",
            "1000 _mean =1505.985163673422\n",
            "10000 _mean =1492.7358953749417\n"
          ]
        }
      ]
    },
    {
      "cell_type": "code",
      "source": [
        "def sampling_error(population_parameter, sample_statistic):\n",
        "\n",
        "    return population_parameter - sample_statistic\n",
        "# sample error\n",
        "print(f\"10 -SE ={sampling_error(mean(population),mean(sample10))}\")\n",
        "print(f\"100 _SE ={sampling_error(mean(population),mean(sample100))}\")\n",
        "print(f\"1000 _SE ={sampling_error(mean(population),mean(sample1000))}\")\n",
        "print(f\"10000 _SE ={sampling_error(mean(population),mean(sample10000))}\")"
      ],
      "metadata": {
        "colab": {
          "base_uri": "https://localhost:8080/"
        },
        "id": "Adet47RmJCv_",
        "outputId": "58f8f727-da13-4baa-bbf2-368867c484d1"
      },
      "execution_count": null,
      "outputs": [
        {
          "output_type": "stream",
          "name": "stdout",
          "text": [
            "10 -SE =259.4542866598749\n",
            "100 _SE =-53.284577349684014\n",
            "1000 _SE =-5.813235456370194\n",
            "10000 _SE =7.43603284211008\n"
          ]
        }
      ]
    },
    {
      "cell_type": "markdown",
      "source": [
        "# Which sample is more representative of the population?"
      ],
      "metadata": {
        "id": "NujorwnwMHow"
      }
    },
    {
      "cell_type": "markdown",
      "source": [
        "The sampling error represents the difference between the population parameter\n",
        "( population mean) and the sample statistic ( sample mean). A negative sampling error means that the sample mean underestimates the population mean, while a positive sampling error means that the sample mean overestimates the population mean.\n",
        "\n",
        "Based on the sampling errors :\n",
        "\n",
        "\n",
        "The sample size of **10000** has the smallest sampling error (**7.43**), indicating that its sample mean is closest to the population mean. Therefore, the sample size of 10000 is **more representative of the population **compared to the other sample sizes."
      ],
      "metadata": {
        "id": "rFIat2qJLIC-"
      }
    },
    {
      "cell_type": "code",
      "source": [
        "def analyze_sample(sample):\n",
        "\n",
        " df = len(sample) - 1\n",
        " randomness_test = np.random.chisquare(df, size=1)\n",
        "\n",
        " is_random = randomness_test > 0.05\n",
        "\n",
        " q1 = np.percentile(sample, 25)\n",
        " q2 = np.percentile(sample, 50)  # Median\n",
        " q3 = np.percentile(sample, 75)\n",
        "\n",
        " return is_random, q2, q1, q3\n",
        "\n",
        "\n",
        "is_random, median, q1, q3 = analyze_sample(sample10000)\n",
        "print(\"Sample 10000 analysis:\")\n",
        "print(\"Is random:\", is_random)\n",
        "print(\"Median:\", median)\n",
        "print(\"Q1:\", q1)\n",
        "print(\"Q3:\", q3)\n",
        "\n"
      ],
      "metadata": {
        "colab": {
          "base_uri": "https://localhost:8080/"
        },
        "id": "KsAvv6DaN_-_",
        "outputId": "3b486331-6f99-4dc9-8ee0-1b13c4febf68"
      },
      "execution_count": null,
      "outputs": [
        {
          "output_type": "stream",
          "name": "stdout",
          "text": [
            "Sample 10000 analysis:\n",
            "Is random: [ True]\n",
            "Median: 1493.0618244687382\n",
            "Q1: 1029.6871952482597\n",
            "Q3: 1962.5061160259818\n"
          ]
        }
      ]
    },
    {
      "cell_type": "markdown",
      "source": [
        "\n",
        "# Random distribution:\n",
        "\n",
        "If is_random is greater than 0.05 (p-value > 0.05), the code assigns True to is_random. This indicates that the Chi-square test result suggests the sample might be random. A higher p-value means the observed distribution aligns more closely with what we would expect from a random distribution.\n"
      ],
      "metadata": {
        "id": "BNIrg-xpWQbx"
      }
    },
    {
      "cell_type": "markdown",
      "source": [
        "**b. What is the value that 50% of the data below it?**\n",
        "Median: 1493.0618244687382\n",
        "\n",
        "\n",
        "**d. What is the value that 25% of the data below it?**\n",
        "Q1: 1029.6871952482597\n",
        "\n",
        "\n",
        "**c. What is the value that 75% of the data below it?**\n",
        "Q3: 1962.5061160259818"
      ],
      "metadata": {
        "id": "JcWxDVWkXeL-"
      }
    },
    {
      "cell_type": "markdown",
      "source": [
        "#What are the values calculated in b, c, and d are statistically called ?\n",
        "50th percentile (median): This is the value that exactly half 50% of the data falls below and the other half falls above.\n",
        "\n",
        "75th percentile (Q3 or upper quartile): This value indicates that 75% of the data falls below it, and the remaining 25% falls above.\n",
        "\n",
        "25th percentile (Q1 or lower quartile): This value signifies that 25% of the data falls below it, and 75% falls above."
      ],
      "metadata": {
        "id": "rbw3hc7ZWqKn"
      }
    }
  ]
}